{
 "cells": [
  {
   "cell_type": "code",
   "execution_count": 14,
   "metadata": {
    "collapsed": true
   },
   "outputs": [],
   "source": [
    "import io"
   ]
  },
  {
   "cell_type": "code",
   "execution_count": 17,
   "outputs": [],
   "source": [
    "female_surname_suffixes = (\"а\", \"ә\", \"е\", \"и\", \"і\", \"у\", \"ұ\", \"ү\", \"ы\")\n",
    "\n",
    "def checkGenderCorrespondence(patronymic, surname) -> bool:\n",
    "    if (patronymic.endswith(female_surname_suffixes) and surname.endswith(female_surname_suffixes)) \\\n",
    "            or (not patronymic.endswith(female_surname_suffixes) and not surname.endswith(female_surname_suffixes))\\\n",
    "            or (patronymic.endswith(\"о\") or surname.endswith(\"о\")):\n",
    "        return True\n",
    "\n",
    "    return False"
   ],
   "metadata": {
    "collapsed": false
   }
  },
  {
   "cell_type": "code",
   "execution_count": 24,
   "outputs": [
    {
     "name": "stdout",
     "output_type": "stream",
     "text": [
      "[('Марқұланқызы', 'Исқақ'), ('Болатқызы', 'Базарбай'), ('Саидқызы', 'Орынбасар'), ('Ерланқызы', 'Жарылқасын'), ('Мұратбайқызы', 'Айтбай'), ('Бекмұратқызы', 'Ерсұлтан'), ('Қайратқызы', 'Өрікбай'), ('Нұрханқызы', 'Оразбай'), ('Алимханқызы', 'Сарет'), ('Бауыржанқызы', 'Бауыржан'), ('Русланқызы', 'Көшербай'), ('Арысбекқызы', 'Анарбек'), ('Нұрғалиқызы', 'Оспан'), ('Берикқызы', 'Сагындык'), ('Мәмбетқызы', 'Қабдраш'), ('Айтхулқызы', 'Нуртуган'), ('Трусбекқызы', 'Зеилбек'), ('Қанатқызы', 'Хайдар'), ('Болатбекқызы', 'Бектай'), ('Бағдатқызы', 'Сүиебек'), ('Кенжебаевна', 'Айдабол'), ('Нүркенқызы', 'Наушабек'), ('Мақсатқызы', 'Байтуған'), ('Виленовна', 'Хан'), ('Зерекқызы', 'Еврей'), ('Ерболатқызы', 'Тынымбай'), ('Болысбекқызы', 'Түлкібек'), ('Сабырбекқызы', 'Досымбек'), ('Сейдуллақызы', 'Нурпейс'), ('Алтынбекқызы', 'Кенішбай'), ('Полатқызы', 'Бекзат'), ('Ерланқызы', 'Қуаныш'), ('Нуржанқызы', 'Жахан'), ('Еркебайқызы', 'Тәжікер'), ('Мұратқызы', 'Мұрат'), ('Батырханқызы', 'Ермахан'), ('Жарасбайқызы', 'Кеңесбай'), ('Бекжанқызы', 'Сабыржан'), ('Серғазықызы', 'Пауадин'), ('Дастанқызы', 'Курбан'), ('Мейірғалиқызы', 'Ғабит'), ('Бағланқызы', 'Бағлан'), ('Болатбекқызы', 'Әшім'), ('Мухитдинқызы', 'Әзізбек'), ('Болатқызы', 'Қабдулуахит'), ('Қантөреқызы', 'Әбдіраман'), ('Амангелдіқызы', 'Асан'), ('Ғалымжанқызы', 'Төлебай'), ('Сакенқызы', 'Жұмабек'), ('Сейдиллақызы', 'Ізбасар')]\n"
     ]
    }
   ],
   "source": [
    "path = './data/names.txt'\n",
    "with io.open(path, encoding='utf-8') as f:\n",
    "    full_names = f.readlines()\n",
    "\n",
    "pos = 0\n",
    "neg = 0\n",
    "total = len(full_names)\n",
    "did_not_pass = 0\n",
    "\n",
    "t = 0\n",
    "l = []\n",
    "\n",
    "for full_name in full_names:\n",
    "    arr = full_name.split()\n",
    "    if len(arr) != 3 :\n",
    "        did_not_pass += 1\n",
    "        continue\n",
    "\n",
    "    surname, name, patronymic = arr\n",
    "\n",
    "    if not checkGenderCorrespondence(patronymic, surname):\n",
    "        l.append((patronymic, surname))\n",
    "\n",
    "    if checkGenderCorrespondence(patronymic, surname):\n",
    "        pos += 1\n",
    "    else :\n",
    "        neg += 1\n",
    "\n",
    "print(l[50:100])\n",
    "# print(\"Out of {}, the number of positive and negative are {} and {} respectively.\".format(total - did_not_pass, pos, neg))"
   ],
   "metadata": {
    "collapsed": false
   }
  },
  {
   "cell_type": "code",
   "execution_count": null,
   "outputs": [],
   "source": [],
   "metadata": {
    "collapsed": false
   }
  }
 ],
 "metadata": {
  "kernelspec": {
   "display_name": "Python 3",
   "language": "python",
   "name": "python3"
  },
  "language_info": {
   "codemirror_mode": {
    "name": "ipython",
    "version": 2
   },
   "file_extension": ".py",
   "mimetype": "text/x-python",
   "name": "python",
   "nbconvert_exporter": "python",
   "pygments_lexer": "ipython2",
   "version": "2.7.6"
  }
 },
 "nbformat": 4,
 "nbformat_minor": 0
}
