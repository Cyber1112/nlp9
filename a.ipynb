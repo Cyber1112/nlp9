{
 "cells": [
  {
   "cell_type": "code",
   "execution_count": 17,
   "metadata": {
    "collapsed": true
   },
   "outputs": [],
   "source": [
    "import numpy as np"
   ]
  },
  {
   "cell_type": "code",
   "execution_count": 18,
   "outputs": [],
   "source": [
    "Waa = np.array([[0.2, 0.5], [0.1, 0.7]])\n",
    "Wax = np.array([[0.6, 0.3], [0.8, 0.4]])\n",
    "Way = np.array([[0.25, 0.95], [0.3, 0.6]])\n",
    "H0 = np.array([0.9, 0.2])\n",
    "I0 = np.array([1, 0])\n",
    "I1 = np.array([0, 1])\n",
    "I2 = np.array([1, 0])\n",
    "Ba = np.array([0.3, 0.15])\n",
    "By = np.array([0.1, 0.4])"
   ],
   "metadata": {
    "collapsed": false
   }
  },
  {
   "cell_type": "code",
   "execution_count": 19,
   "outputs": [
    {
     "name": "stdout",
     "output_type": "stream",
     "text": [
      "The first output [0.72898372 0.74429024]\n",
      "The second output [0.74380361 0.75440388]\n",
      "The third output [0.74137121 0.75205508]\n"
     ]
    }
   ],
   "source": [
    "def sigmoid(x):\n",
    "    return 1 / (1 + np.exp(-x))\n",
    "\n",
    "H1 = sigmoid(np.dot(H0, Waa) + np.dot(I0, Wax) + Ba)\n",
    "Y0 = sigmoid(np.dot(Way, H1) + By)\n",
    "print(\"The first output\", Y0)\n",
    "\n",
    "H2 = sigmoid(np.dot(H1, Waa) + np.dot(I1, Wax) + Ba)\n",
    "Y1 = sigmoid(np.dot(Way, H2) + By)\n",
    "print(\"The second output\", Y1)\n",
    "\n",
    "H3 = sigmoid(np.dot(H2, Waa) + np.dot(I2, Wax) + Ba)\n",
    "Y2 = sigmoid(np.dot(Way, H3) + By)\n",
    "print(\"The third output\", Y2)"
   ],
   "metadata": {
    "collapsed": false
   }
  },
  {
   "cell_type": "code",
   "execution_count": 20,
   "outputs": [
    {
     "name": "stdout",
     "output_type": "stream",
     "text": [
      "The second output [0.7489646  0.75858323]\n",
      "The third output [0.75154815 0.76025176]\n"
     ]
    }
   ],
   "source": [
    "H2 = sigmoid(np.dot(H1, Waa) + np.dot(Y1, Wax) + Ba)\n",
    "Y1 = sigmoid(np.dot(Way, H2) + By)\n",
    "print(\"The second output\", Y1)\n",
    "\n",
    "H3 = sigmoid(np.dot(H2, Waa) + np.dot(Y2, Wax) + Ba)\n",
    "Y2 = sigmoid(np.dot(Way, H3) + By)\n",
    "print(\"The third output\", Y2)"
   ],
   "metadata": {
    "collapsed": false
   }
  },
  {
   "cell_type": "code",
   "execution_count": null,
   "outputs": [],
   "source": [],
   "metadata": {
    "collapsed": false
   }
  }
 ],
 "metadata": {
  "kernelspec": {
   "display_name": "Python 3",
   "language": "python",
   "name": "python3"
  },
  "language_info": {
   "codemirror_mode": {
    "name": "ipython",
    "version": 2
   },
   "file_extension": ".py",
   "mimetype": "text/x-python",
   "name": "python",
   "nbconvert_exporter": "python",
   "pygments_lexer": "ipython2",
   "version": "2.7.6"
  }
 },
 "nbformat": 4,
 "nbformat_minor": 0
}
